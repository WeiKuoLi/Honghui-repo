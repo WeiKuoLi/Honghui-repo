{
  "nbformat": 4,
  "nbformat_minor": 0,
  "metadata": {
    "colab": {
      "provenance": [],
      "authorship_tag": "ABX9TyNvYVMnFl24KduuNqg0UfzC",
      "include_colab_link": true
    },
    "kernelspec": {
      "name": "python3",
      "display_name": "Python 3"
    },
    "language_info": {
      "name": "python"
    }
  },
  "cells": [
    {
      "cell_type": "markdown",
      "metadata": {
        "id": "view-in-github",
        "colab_type": "text"
      },
      "source": [
        "<a href=\"https://colab.research.google.com/github/WeiKuoLi/Honghui-repo/blob/main/image_embeddings.ipynb\" target=\"_parent\"><img src=\"https://colab.research.google.com/assets/colab-badge.svg\" alt=\"Open In Colab\"/></a>"
      ]
    },
    {
      "cell_type": "code",
      "source": [
        "!pip install -qqq transformers datasets matplotlib"
      ],
      "metadata": {
        "id": "AhQ5fb5MppXk"
      },
      "execution_count": 1,
      "outputs": []
    },
    {
      "cell_type": "code",
      "source": [
        "import torch\n",
        "device = torch.device(\"cuda\" if torch.cuda.is_available() else \"cpu\")"
      ],
      "metadata": {
        "id": "0kA1fSUQqzL7"
      },
      "execution_count": 2,
      "outputs": []
    },
    {
      "cell_type": "code",
      "source": [
        "dataset_mode = \"CIFAR10\"\n",
        "# dataset_mode = \"MNIST\""
      ],
      "metadata": {
        "id": "QZxnBsS13kt7"
      },
      "execution_count": 3,
      "outputs": []
    },
    {
      "cell_type": "code",
      "source": [
        "import torch\n",
        "import torchvision.transforms as T\n",
        "from torch.utils.data import DataLoader\n",
        "from transformers import AutoImageProcessor, AutoModel\n",
        "import numpy as np\n",
        "import matplotlib.pyplot as plt\n",
        "import seaborn as sns\n",
        "\n",
        "# Load MNIST dataset (using only PyTorch)\n",
        "transform = T.Compose([\n",
        "    T.Resize((224, 224)),  # Resize images to match ViT input size\n",
        "    T.ToTensor(),\n",
        "])\n",
        "if dataset_mode == \"MNIST\":\n",
        "  from torchvision.datasets import MNIST\n",
        "  dataset = MNIST(root=\"./data\", train=True, download=True, transform=transform)\n",
        "elif dataset_mode == \"CIFAR10\":\n",
        "  from torchvision.datasets import CIFAR10\n",
        "  dataset = CIFAR10(root=\"./data\", train=True, download=True, transform=transform)\n",
        "\n",
        "loader = DataLoader(dataset, batch_size=20, shuffle=False)\n",
        "images, labels = next(iter(loader))\n",
        "\n",
        "# transform black and white to colored [20, 1, 224, 224] to [20, 3, 224, 224]\n",
        "if dataset.__class__.__name__ == \"MNIST\":\n",
        "  images = torch.cat([images, images, images], dim=1)\n",
        "elif dataset.__class__.__name__ == \"CIFAR10\":\n",
        "  pass\n",
        "print(f\"images shape: {images.shape}\")\n",
        "print(f\"images max/min: {images.max()}, {images.min()}\")\n",
        "\n",
        "# Plot first 4 images\n",
        "fig, ax = plt.subplots(2,2, figsize=(5, 3))\n",
        "for i in range(4):\n",
        "    ax[i//2, i%2].imshow(images[i].permute(1, 2, 0).numpy())\n",
        "    ax[i//2, i%2].axis('off')\n",
        "    ax[i//2, i%2].set_title(labels[i].item(), fontsize=14)\n",
        "plt.show()\n",
        "\n",
        "# normalize images to mean and std of 0.5 for all channels\n",
        "images = (images - images.mean(dim=(2, 3), keepdim=True)) / images.std(dim=(2, 3), keepdim=True)\n",
        "images = images * 0.5 + 0.5\n",
        "print(f\"images mean/std: {images.mean(dim=(0, 2, 3))}, {images.std(dim=(0, 2, 3))}\")\n",
        "\n",
        "# Load a small ViT model and image processor from Hugging Face\n",
        "model_name = \"google/vit-base-patch16-224-in21k\"\n",
        "processor = AutoImageProcessor.from_pretrained(model_name)\n",
        "model = AutoModel.from_pretrained(model_name).eval()\n",
        "\n",
        "# Extract embeddings\n",
        "with torch.no_grad():\n",
        "    #inputs = processor(255*images.detach().numpy(), return_tensors=\"pt\").pixel_values\n",
        "    inputs = images\n",
        "    print(f\"inputs shape: {inputs.shape}\")\n",
        "    outputs = model(inputs).last_hidden_state\n",
        "    print(f\"outputs shape: {outputs.shape}\")\n",
        "    outputs = outputs.reshape(len(labels), -1)\n",
        "    embeddings = outputs.numpy()  # Convert to NumPy array\n",
        "    print(f\"embeddings shape: {embeddings.shape}\")\n",
        "\n",
        "# Compute cosine similarity matrix using NumPy\n",
        "norms = ((embeddings**2).sum(axis=1, keepdims=True))**0.5\n",
        "normalized_embeddings = embeddings / norms\n",
        "normalized_embeddings_1 = normalized_embeddings[:,np.newaxis,:]\n",
        "normalized_embeddings_2 = normalized_embeddings[np.newaxis,:,:]\n",
        "similarity_matrix =(normalized_embeddings_1 * normalized_embeddings_2).sum(axis=2)\n",
        "\n",
        "# Plot the cosine similarity matrix as a heatmap\n",
        "plt.figure(figsize=(10, 8))\n",
        "sns.heatmap(similarity_matrix, annot=True, fmt=\".2f\", cmap=\"coolwarm\", xticklabels=labels.tolist(), yticklabels=labels.tolist())\n",
        "plt.title(f\"Cosine Similarity Matrix of {dataset_mode} Embeddings (20 Samples)\")\n",
        "plt.xlabel(\"Sample Index\")\n",
        "plt.ylabel(\"Sample Index\")\n",
        "plt.show()\n"
      ],
      "metadata": {
        "id": "YkVBNa_vpXZ5"
      },
      "execution_count": null,
      "outputs": []
    },
    {
      "cell_type": "code",
      "source": [
        "\n",
        "# Plot the cosine similarity matrix as a heatmap\n",
        "plt.figure(figsize=(10, 8))\n",
        "sns.heatmap(similarity_matrix>0.1, annot=False, fmt=\".2f\", cmap=\"coolwarm\", xticklabels=labels.tolist(), yticklabels=labels.tolist())\n",
        "plt.title(f\"Cosine Similarity Matrix of {dataset_mode} Embeddings (20 Samples)\")\n",
        "plt.xlabel(\"Sample Index\")\n",
        "plt.ylabel(\"Sample Index\")\n",
        "plt.show()\n"
      ],
      "metadata": {
        "id": "qmAlGPaSyYw1"
      },
      "execution_count": null,
      "outputs": []
    },
    {
      "cell_type": "code",
      "source": [],
      "metadata": {
        "id": "eYVVMBi98ERq"
      },
      "execution_count": null,
      "outputs": []
    }
  ]
}